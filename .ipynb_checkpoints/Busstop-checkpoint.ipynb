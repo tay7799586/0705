{
 "cells": [
  {
   "cell_type": "code",
   "execution_count": 6,
   "id": "9341087b",
   "metadata": {},
   "outputs": [],
   "source": [
    "import requests\n",
    "import json\n",
    "url= 'https://data.coa.gov.tw/Service/OpenData/FromM/FarmTransData.aspx'\n",
    "jsondata=requests.get(url).text"
   ]
  },
  {
   "cell_type": "code",
   "execution_count": 25,
   "id": "1033b91f",
   "metadata": {},
   "outputs": [
    {
     "name": "stdout",
     "output_type": "stream",
     "text": [
      "argument of type 'NoneType' is not iterable\n",
      "argument of type 'NoneType' is not iterable\n",
      "argument of type 'NoneType' is not iterable\n",
      "argument of type 'NoneType' is not iterable\n",
      "{'交易日期': '111.07.05', '種類代碼': 'N04', '作物代號': 'FB11', '作物名稱': '花椰菜-青梗', '市場代號': '109', '市場名稱': '台北一', '上價': 153.9, '中價': 71.4, '下價': 29.1, '平均價': 79.4, '交易量': 2674.0}\n",
      "{'交易日期': '111.07.05', '種類代碼': 'N04', '作物代號': 'FB1', '作物名稱': '花椰菜-青梗', '市場代號': '220', '市場名稱': '板橋區', '上價': 89.0, '中價': 86.5, '下價': 58.2, '平均價': 81.4, '交易量': 209.0}\n",
      "argument of type 'NoneType' is not iterable\n",
      "{'交易日期': '111.07.05', '種類代碼': 'N04', '作物代號': 'FB1', '作物名稱': '花椰菜-青梗', '市場代號': '241', '市場名稱': '三重區', '上價': 59.7, '中價': 46.7, '下價': 26.7, '平均價': 45.3, '交易量': 183.0}\n",
      "argument of type 'NoneType' is not iterable\n",
      "{'交易日期': '111.07.05', '種類代碼': 'N04', '作物代號': 'FB1', '作物名稱': '花椰菜-青梗', '市場代號': '800', '市場名稱': '高雄市', '上價': 100.0, '中價': 65.5, '下價': 35.0, '平均價': 66.3, '交易量': 1648.0}\n",
      "{'交易日期': '111.07.05', '種類代碼': 'N04', '作物代號': 'FB1', '作物名稱': '花椰菜-青梗', '市場代號': '830', '市場名稱': '鳳山區', '上價': 20.1, '中價': 20.1, '下價': 20.1, '平均價': 20.1, '交易量': 280.0}\n",
      "argument of type 'NoneType' is not iterable\n",
      "argument of type 'NoneType' is not iterable\n",
      "argument of type 'NoneType' is not iterable\n",
      "argument of type 'NoneType' is not iterable\n",
      "argument of type 'NoneType' is not iterable\n",
      "argument of type 'NoneType' is not iterable\n",
      "argument of type 'NoneType' is not iterable\n",
      "argument of type 'NoneType' is not iterable\n",
      "argument of type 'NoneType' is not iterable\n",
      "argument of type 'NoneType' is not iterable\n",
      "{'交易日期': '111.07.03', '種類代碼': 'N04', '作物代號': 'FB11', '作物名稱': '花椰菜-青梗', '市場代號': '109', '市場名稱': '台北一', '上價': 158.4, '中價': 99.8, '下價': 36.3, '平均價': 98.8, '交易量': 1589.0}\n",
      "{'交易日期': '111.07.03', '種類代碼': 'N04', '作物代號': 'FB1', '作物名稱': '花椰菜-青梗', '市場代號': '220', '市場名稱': '板橋區', '上價': 88.0, '中價': 88.0, '下價': 47.7, '平均價': 79.9, '交易量': 186.0}\n",
      "argument of type 'NoneType' is not iterable\n",
      "{'交易日期': '111.07.03', '種類代碼': 'N04', '作物代號': 'FB1', '作物名稱': '花椰菜-青梗', '市場代號': '241', '市場名稱': '三重區', '上價': 48.9, '中價': 33.6, '下價': 25.0, '平均價': 34.9, '交易量': 196.0}\n",
      "{'交易日期': '111.07.03', '種類代碼': 'N04', '作物代號': 'FB1', '作物名稱': '花椰菜-青梗', '市場代號': '800', '市場名稱': '高雄市', '上價': 88.3, '中價': 54.9, '下價': 35.7, '平均價': 57.8, '交易量': 2040.0}\n",
      "{'交易日期': '111.07.03', '種類代碼': 'N04', '作物代號': 'FB1', '作物名稱': '花椰菜-青梗', '市場代號': '830', '市場名稱': '鳳山區', '上價': 39.2, '中價': 39.2, '下價': 39.2, '平均價': 39.2, '交易量': 150.0}\n",
      "argument of type 'NoneType' is not iterable\n",
      "argument of type 'NoneType' is not iterable\n",
      "argument of type 'NoneType' is not iterable\n",
      "argument of type 'NoneType' is not iterable\n",
      "{'交易日期': '111.07.02', '種類代碼': 'N04', '作物代號': 'FB11', '作物名稱': '花椰菜-青梗', '市場代號': '109', '市場名稱': '台北一', '上價': 188.4, '中價': 87.5, '下價': 39.0, '平均價': 98.0, '交易量': 1657.0}\n",
      "{'交易日期': '111.07.02', '種類代碼': 'N04', '作物代號': 'FB1', '作物名稱': '花椰菜-青梗', '市場代號': '220', '市場名稱': '板橋區', '上價': 100.0, '中價': 99.7, '下價': 33.6, '平均價': 86.5, '交易量': 205.0}\n",
      "argument of type 'NoneType' is not iterable\n",
      "{'交易日期': '111.07.02', '種類代碼': 'N04', '作物代號': 'FB1', '作物名稱': '花椰菜-青梗', '市場代號': '241', '市場名稱': '三重區', '上價': 42.0, '中價': 32.2, '下價': 32.0, '平均價': 34.1, '交易量': 76.0}\n",
      "argument of type 'NoneType' is not iterable\n",
      "{'交易日期': '111.07.02', '種類代碼': 'N04', '作物代號': 'FB1', '作物名稱': '花椰菜-青梗', '市場代號': '514', '市場名稱': '溪湖鎮', '上價': 95.2, '中價': 81.3, '下價': 36.2, '平均價': 75.1, '交易量': 3512.0}\n",
      "argument of type 'NoneType' is not iterable\n",
      "argument of type 'NoneType' is not iterable\n",
      "argument of type 'NoneType' is not iterable\n",
      "{'交易日期': '111.07.02', '種類代碼': 'N04', '作物代號': 'FB1', '作物名稱': '花椰菜-青梗', '市場代號': '800', '市場名稱': '高雄市', '上價': 65.0, '中價': 53.7, '下價': 31.5, '平均價': 51.5, '交易量': 2067.0}\n",
      "argument of type 'NoneType' is not iterable\n",
      "{'交易日期': '111.07.02', '種類代碼': 'N04', '作物代號': 'FB1', '作物名稱': '花椰菜-青梗', '市場代號': '830', '市場名稱': '鳳山區', '上價': 35.4, '中價': 35.3, '下價': 35.3, '平均價': 35.3, '交易量': 170.0}\n",
      "<class 'list'>\n"
     ]
    }
   ],
   "source": [
    "data= json.loads(jsondata)\n",
    "for item in data:\n",
    "    try:\n",
    "        if '花椰菜' in item[\"作物名稱\"]:\n",
    "            print(item)\n",
    "    except Exception as e:\n",
    "        print(e)"
   ]
  },
  {
   "cell_type": "code",
   "execution_count": 26,
   "id": "845c3b86",
   "metadata": {},
   "outputs": [
    {
     "name": "stdout",
     "output_type": "stream",
     "text": [
      "<class 'list'>\n"
     ]
    }
   ],
   "source": [
    "print(type(data())) "
   ]
  },
  {
   "cell_type": "code",
   "execution_count": 27,
   "id": "d78c5d68",
   "metadata": {},
   "outputs": [],
   "source": []
  },
  {
   "cell_type": "code",
   "execution_count": 9,
   "id": "df224064",
   "metadata": {},
   "outputs": [],
   "source": [
    "import requests \n",
    "from bs4 import BeautifulSoup \n",
    "url = 'https://www.nkust.edu.tw/p/403-1000-1363-1.php' \n",
    "html = requests.get(url).text \n",
    "soup = BeautifulSoup(html, 'html.parser') "
   ]
  },
  {
   "cell_type": "code",
   "execution_count": 10,
   "id": "14f3f897",
   "metadata": {},
   "outputs": [],
   "source": [
    "links=soup.find_all(class_=\"mittle\")\n",
    "for link in links:\n",
    "    print(links.atext.strip())\n",
    "    print(link)"
   ]
  },
  {
   "cell_type": "code",
   "execution_count": null,
   "id": "4c80b282",
   "metadata": {},
   "outputs": [],
   "source": []
  }
 ],
 "metadata": {
  "kernelspec": {
   "display_name": "Python 3 (ipykernel)",
   "language": "python",
   "name": "python3"
  },
  "language_info": {
   "codemirror_mode": {
    "name": "ipython",
    "version": 3
   },
   "file_extension": ".py",
   "mimetype": "text/x-python",
   "name": "python",
   "nbconvert_exporter": "python",
   "pygments_lexer": "ipython3",
   "version": "3.9.12"
  }
 },
 "nbformat": 4,
 "nbformat_minor": 5
}
