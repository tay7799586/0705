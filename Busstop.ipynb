{
 "cells": [
  {
   "cell_type": "code",
   "execution_count": 6,
   "id": "9341087b",
   "metadata": {},
   "outputs": [],
   "source": [
    "import requests\n",
    "import json\n",
    "url= 'https://data.coa.gov.tw/Service/OpenData/FromM/FarmTransData.aspx'\n",
    "jsondata=requests.get(url).text"
   ]
  },
  {
   "cell_type": "code",
   "execution_count": 25,
   "id": "1033b91f",
   "metadata": {},
   "outputs": [
    {
     "name": "stdout",
     "output_type": "stream",
     "text": [
      "argument of type 'NoneType' is not iterable\n",
      "argument of type 'NoneType' is not iterable\n",
      "argument of type 'NoneType' is not iterable\n",
      "argument of type 'NoneType' is not iterable\n",
      "{'交易日期': '111.07.05', '種類代碼': 'N04', '作物代號': 'FB11', '作物名稱': '花椰菜-青梗', '市場代號': '109', '市場名稱': '台北一', '上價': 153.9, '中價': 71.4, '下價': 29.1, '平均價': 79.4, '交易量': 2674.0}\n",
      "{'交易日期': '111.07.05', '種類代碼': 'N04', '作物代號': 'FB1', '作物名稱': '花椰菜-青梗', '市場代號': '220', '市場名稱': '板橋區', '上價': 89.0, '中價': 86.5, '下價': 58.2, '平均價': 81.4, '交易量': 209.0}\n",
      "argument of type 'NoneType' is not iterable\n",
      "{'交易日期': '111.07.05', '種類代碼': 'N04', '作物代號': 'FB1', '作物名稱': '花椰菜-青梗', '市場代號': '241', '市場名稱': '三重區', '上價': 59.7, '中價': 46.7, '下價': 26.7, '平均價': 45.3, '交易量': 183.0}\n",
      "argument of type 'NoneType' is not iterable\n",
      "{'交易日期': '111.07.05', '種類代碼': 'N04', '作物代號': 'FB1', '作物名稱': '花椰菜-青梗', '市場代號': '800', '市場名稱': '高雄市', '上價': 100.0, '中價': 65.5, '下價': 35.0, '平均價': 66.3, '交易量': 1648.0}\n",
      "{'交易日期': '111.07.05', '種類代碼': 'N04', '作物代號': 'FB1', '作物名稱': '花椰菜-青梗', '市場代號': '830', '市場名稱': '鳳山區', '上價': 20.1, '中價': 20.1, '下價': 20.1, '平均價': 20.1, '交易量': 280.0}\n",
      "argument of type 'NoneType' is not iterable\n",
      "argument of type 'NoneType' is not iterable\n",
      "argument of type 'NoneType' is not iterable\n",
      "argument of type 'NoneType' is not iterable\n",
      "argument of type 'NoneType' is not iterable\n",
      "argument of type 'NoneType' is not iterable\n",
      "argument of type 'NoneType' is not iterable\n",
      "argument of type 'NoneType' is not iterable\n",
      "argument of type 'NoneType' is not iterable\n",
      "argument of type 'NoneType' is not iterable\n",
      "{'交易日期': '111.07.03', '種類代碼': 'N04', '作物代號': 'FB11', '作物名稱': '花椰菜-青梗', '市場代號': '109', '市場名稱': '台北一', '上價': 158.4, '中價': 99.8, '下價': 36.3, '平均價': 98.8, '交易量': 1589.0}\n",
      "{'交易日期': '111.07.03', '種類代碼': 'N04', '作物代號': 'FB1', '作物名稱': '花椰菜-青梗', '市場代號': '220', '市場名稱': '板橋區', '上價': 88.0, '中價': 88.0, '下價': 47.7, '平均價': 79.9, '交易量': 186.0}\n",
      "argument of type 'NoneType' is not iterable\n",
      "{'交易日期': '111.07.03', '種類代碼': 'N04', '作物代號': 'FB1', '作物名稱': '花椰菜-青梗', '市場代號': '241', '市場名稱': '三重區', '上價': 48.9, '中價': 33.6, '下價': 25.0, '平均價': 34.9, '交易量': 196.0}\n",
      "{'交易日期': '111.07.03', '種類代碼': 'N04', '作物代號': 'FB1', '作物名稱': '花椰菜-青梗', '市場代號': '800', '市場名稱': '高雄市', '上價': 88.3, '中價': 54.9, '下價': 35.7, '平均價': 57.8, '交易量': 2040.0}\n",
      "{'交易日期': '111.07.03', '種類代碼': 'N04', '作物代號': 'FB1', '作物名稱': '花椰菜-青梗', '市場代號': '830', '市場名稱': '鳳山區', '上價': 39.2, '中價': 39.2, '下價': 39.2, '平均價': 39.2, '交易量': 150.0}\n",
      "argument of type 'NoneType' is not iterable\n",
      "argument of type 'NoneType' is not iterable\n",
      "argument of type 'NoneType' is not iterable\n",
      "argument of type 'NoneType' is not iterable\n",
      "{'交易日期': '111.07.02', '種類代碼': 'N04', '作物代號': 'FB11', '作物名稱': '花椰菜-青梗', '市場代號': '109', '市場名稱': '台北一', '上價': 188.4, '中價': 87.5, '下價': 39.0, '平均價': 98.0, '交易量': 1657.0}\n",
      "{'交易日期': '111.07.02', '種類代碼': 'N04', '作物代號': 'FB1', '作物名稱': '花椰菜-青梗', '市場代號': '220', '市場名稱': '板橋區', '上價': 100.0, '中價': 99.7, '下價': 33.6, '平均價': 86.5, '交易量': 205.0}\n",
      "argument of type 'NoneType' is not iterable\n",
      "{'交易日期': '111.07.02', '種類代碼': 'N04', '作物代號': 'FB1', '作物名稱': '花椰菜-青梗', '市場代號': '241', '市場名稱': '三重區', '上價': 42.0, '中價': 32.2, '下價': 32.0, '平均價': 34.1, '交易量': 76.0}\n",
      "argument of type 'NoneType' is not iterable\n",
      "{'交易日期': '111.07.02', '種類代碼': 'N04', '作物代號': 'FB1', '作物名稱': '花椰菜-青梗', '市場代號': '514', '市場名稱': '溪湖鎮', '上價': 95.2, '中價': 81.3, '下價': 36.2, '平均價': 75.1, '交易量': 3512.0}\n",
      "argument of type 'NoneType' is not iterable\n",
      "argument of type 'NoneType' is not iterable\n",
      "argument of type 'NoneType' is not iterable\n",
      "{'交易日期': '111.07.02', '種類代碼': 'N04', '作物代號': 'FB1', '作物名稱': '花椰菜-青梗', '市場代號': '800', '市場名稱': '高雄市', '上價': 65.0, '中價': 53.7, '下價': 31.5, '平均價': 51.5, '交易量': 2067.0}\n",
      "argument of type 'NoneType' is not iterable\n",
      "{'交易日期': '111.07.02', '種類代碼': 'N04', '作物代號': 'FB1', '作物名稱': '花椰菜-青梗', '市場代號': '830', '市場名稱': '鳳山區', '上價': 35.4, '中價': 35.3, '下價': 35.3, '平均價': 35.3, '交易量': 170.0}\n",
      "<class 'list'>\n"
     ]
    }
   ],
   "source": [
    "data= json.loads(jsondata)\n",
    "for item in data:\n",
    "    try:\n",
    "        if '花椰菜' in item[\"作物名稱\"]:\n",
    "            print(item)\n",
    "    except Exception as e:\n",
    "        print(e)"
   ]
  },
  {
   "cell_type": "code",
   "execution_count": 26,
   "id": "845c3b86",
   "metadata": {},
   "outputs": [
    {
     "name": "stdout",
     "output_type": "stream",
     "text": [
      "<class 'list'>\n"
     ]
    }
   ],
   "source": [
    "print(type(data())) "
   ]
  },
  {
   "cell_type": "code",
   "execution_count": 27,
   "id": "d78c5d68",
   "metadata": {},
   "outputs": [],
   "source": []
  },
  {
   "cell_type": "code",
   "execution_count": 9,
   "id": "df224064",
   "metadata": {},
   "outputs": [],
   "source": [
    "import requests \n",
    "from bs4 import BeautifulSoup \n",
    "url = 'https://www.nkust.edu.tw/p/403-1000-1363-1.php' \n",
    "html = requests.get(url).text \n",
    "soup = BeautifulSoup(html, 'html.parser') "
   ]
  },
  {
   "cell_type": "code",
   "execution_count": 23,
   "id": "14f3f897",
   "metadata": {},
   "outputs": [
    {
     "name": "stdout",
     "output_type": "stream",
     "text": [
      "高科大衛武營簽署MOU 合作推展南部美感教育及展演活動\n",
      "https://www.nkust.edu.tw/p/406-1000-59817,r1363.php\n",
      "2022-07-01 \n",
      "菲國友人榮任部長 台菲學術交流盼持續深化\n",
      "https://www.nkust.edu.tw/p/406-1000-59719,r1363.php\n",
      "2022-06-28 \n",
      "高科大科工館簽署ＭＯＵ　實驗室退役儀器將成收藏工藝品\n",
      "https://www.nkust.edu.tw/p/406-1000-59657,r1363.php\n",
      "2022-06-25 \n",
      "高科大出版首份永續報告書 目標2028年達成碳中和\n",
      "https://www.nkust.edu.tw/p/406-1000-59447,r1363.php\n",
      "2022-06-20 \n",
      "守護海洋拒絕「網」來 高科大與澎湖縣府號召志工一起清除覆網\n",
      "https://www.nkust.edu.tw/p/406-1000-59816,r1363.php\n",
      "2022-06-17 \n",
      "撒部・噶照用創作傳達海的訊息 建工藝文個展浪漫登場\n",
      "https://www.nkust.edu.tw/p/406-1000-59115,r1363.php\n",
      "2022-06-10 \n",
      "高科大上進夫妻檔假日進修 畢業雙喜臨門迎二寶\n",
      "https://www.nkust.edu.tw/p/406-1000-59067,r1363.php\n",
      "2022-06-09 \n",
      "高科大環境教育推廣攜手USR 邀企業政府一起翻轉在地\n",
      "https://www.nkust.edu.tw/p/406-1000-58919,r1363.php\n",
      "2022-06-06 \n",
      "高科大導入智慧車聯網 助小琉球規劃低碳旅行\n",
      "https://www.nkust.edu.tw/p/406-1000-58490,r1363.php\n",
      "2022-05-23 \n",
      "文創系畢展放視大賞登場 溺水世代躍出水面追夢\n",
      "https://www.nkust.edu.tw/p/406-1000-58366,r1363.php\n",
      "2022-05-20 \n",
      "高科大研發太陽能電動車首亮相 將啟程多次環島試跑\n",
      "https://www.nkust.edu.tw/p/406-1000-58330,r1363.php\n",
      "2022-05-19 \n",
      "高科大多項作品入圍金點新秀 新一代設計展即將揭曉\n",
      "https://www.nkust.edu.tw/p/406-1000-57657,r1363.php\n",
      "2022-05-05 \n"
     ]
    }
   ],
   "source": [
    "links=soup.find_all(class_=\"mtitle\")\n",
    "for link in links:\n",
    "    print(link.a.text.strip())\n",
    "    print(link.a['href'])\n",
    "    print(link.i.text)"
   ]
  },
  {
   "cell_type": "code",
   "execution_count": null,
   "id": "4c80b282",
   "metadata": {},
   "outputs": [],
   "source": []
  }
 ],
 "metadata": {
  "kernelspec": {
   "display_name": "Python 3 (ipykernel)",
   "language": "python",
   "name": "python3"
  },
  "language_info": {
   "codemirror_mode": {
    "name": "ipython",
    "version": 3
   },
   "file_extension": ".py",
   "mimetype": "text/x-python",
   "name": "python",
   "nbconvert_exporter": "python",
   "pygments_lexer": "ipython3",
   "version": "3.9.12"
  }
 },
 "nbformat": 4,
 "nbformat_minor": 5
}
